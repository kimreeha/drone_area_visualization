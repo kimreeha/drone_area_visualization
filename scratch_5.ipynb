{
 "cells": [
  {
   "cell_type": "code",
   "execution_count": 1,
   "id": "ae51869f",
   "metadata": {},
   "outputs": [
    {
     "name": "stdout",
     "output_type": "stream",
     "text": [
      "response:  {'rain': '15.0mm', 'sky': '4', 'tmp': '27', 'hum': '85'}\n"
     ]
    }
   ],
   "source": [
    "from urllib.request import urlopen\n",
    "from urllib.parse import urlencode, unquote, quote_plus\n",
    "import urllib\n",
    "import requests\n",
    "import json\n",
    "import pandas as pd\n",
    "import datetime\n",
    "\n",
    "# 기상청_동네 예보 조회 서비스 api 데이터 url 주소, 초단기이기때문에 getUltraSrtFcst 사용\n",
    "url = \"https://apis.data.go.kr/1360000/VilageFcstInfoService_2.0/getUltraSrtFcst\"\n",
    "\n",
    "serviceKey = \"RvvK7UoRrYoy9KAatmtUewyyjXr0eNKHg45pgZPzLM6T1pzDjD4HEIdPVdI822q26KJWvc59QQDa%2BpjZvFEXaA%3D%3D\"  # 공공데이터 포털에서 생성된 본인의 서비스 키를 복사 / 붙여넣기\n",
    "serviceKeyDecoded = unquote(serviceKey, 'UTF-8')  # 공데이터 포털에서 제공하는 서비스키는 이미 인코딩된 상태이므로, 디코딩하여 사용해야 함\n",
    "\n",
    "now = datetime.datetime.now()\n",
    "today = datetime.datetime.today().strftime(\"%Y%m%d\")\n",
    "y = datetime.date.today() - datetime.timedelta(days=1)\n",
    "yesterday = y.strftime(\"%Y%m%d\")\n",
    "nx = 52  # 위도와 경도를 x,y좌표로 변경\n",
    "ny = 38\n",
    "\n",
    "if now.minute < 45:  # base_time와 base_date 구하는 함수\n",
    "    if now.hour == 0:\n",
    "        base_time = \"2330\"\n",
    "        base_date = yesterday\n",
    "    else:\n",
    "        pre_hour = now.hour - 1\n",
    "        if pre_hour < 10:\n",
    "            base_time = \"0\" + str(pre_hour) + \"30\"\n",
    "        else:\n",
    "            base_time = str(pre_hour) + \"30\"\n",
    "        base_date = today\n",
    "else:\n",
    "    if now.hour < 10:\n",
    "        base_time = \"0\" + str(now.hour) + \"30\"\n",
    "    else:\n",
    "        base_time = str(now.hour) + \"30\"\n",
    "base_date = today\n",
    "\n",
    "queryParams = '?' + urlencode({quote_plus('serviceKey'): serviceKeyDecoded, quote_plus('base_date'): base_date,\n",
    "                               quote_plus('base_time'): base_time, quote_plus('nx'): nx, quote_plus('ny'): ny,\n",
    "                               quote_plus('dataType'): 'json',\n",
    "                               quote_plus('numOfRows'): '1000'})  # 페이지로 안나누고 한번에 받아오기 위해 numOfRows=60으로 설정해주었다\n",
    "\n",
    "# 값 요청 (웹 브라우저 서버에서 요청 - url주소와 파라미터)\n",
    "res = requests.get(url + queryParams)  # verify=False이거 안 넣으면 에러남ㅜㅜ\n",
    "items = res.json().get('response').get('body').get('items')  # 데이터들 아이템에 저장\n",
    "# print(items)# 테스트\n",
    "\n",
    "weather_data = dict()\n",
    "\n",
    "for item in items['item']:\n",
    "    # 기온\n",
    "    if item['category'] == 'T1H':\n",
    "        weather_data['tmp'] = item['fcstValue']\n",
    "    # 습도\n",
    "    if item['category'] == 'REH':\n",
    "        weather_data['hum'] = item['fcstValue']\n",
    "    # 하늘상태: 맑음(1) 구름많은(3) 흐림(4)\n",
    "    if item['category'] == 'SKY':\n",
    "        weather_data['sky'] = item['fcstValue']\n",
    "    # 1시간 동안 강수량\n",
    "    if item['category'] == 'RN1':\n",
    "        weather_data['rain'] = item['fcstValue']\n",
    "\n",
    "print(\"response: \", weather_data)\n",
    "\n"
   ]
  },
  {
   "cell_type": "code",
   "execution_count": null,
   "id": "53757946",
   "metadata": {},
   "outputs": [],
   "source": []
  }
 ],
 "metadata": {
  "kernelspec": {
   "display_name": "Python 3 (ipykernel)",
   "language": "python",
   "name": "python3"
  },
  "language_info": {
   "codemirror_mode": {
    "name": "ipython",
    "version": 3
   },
   "file_extension": ".py",
   "mimetype": "text/x-python",
   "name": "python",
   "nbconvert_exporter": "python",
   "pygments_lexer": "ipython3",
   "version": "3.10.9"
  }
 },
 "nbformat": 4,
 "nbformat_minor": 5
}
